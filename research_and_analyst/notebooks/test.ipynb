{
 "cells": [
  {
   "cell_type": "code",
   "execution_count": 177,
   "id": "513f2997",
   "metadata": {},
   "outputs": [
    {
     "name": "stdout",
     "output_type": "stream",
     "text": [
      "Ok\n"
     ]
    }
   ],
   "source": [
    "print(\"Ok\")"
   ]
  },
  {
   "cell_type": "code",
   "execution_count": 178,
   "id": "48013bba",
   "metadata": {},
   "outputs": [],
   "source": [
    "from utils.model_loader import ModelLoader"
   ]
  },
  {
   "cell_type": "code",
   "execution_count": 179,
   "id": "d25cce80",
   "metadata": {},
   "outputs": [
    {
     "name": "stderr",
     "output_type": "stream",
     "text": [
      "{\"timestamp\": \"2025-10-24T12:33:35.113960Z\", \"level\": \"warning\", \"event\": \"OPENAI_API_KEY is missing from environment\"}\n",
      "{\"timestamp\": \"2025-10-24T12:33:35.114634Z\", \"level\": \"info\", \"event\": \"GOOGLE_API_KEY loaded from environment\"}\n",
      "{\"timestamp\": \"2025-10-24T12:33:35.115098Z\", \"level\": \"info\", \"event\": \"GROQ_API_KEY loaded from environment\"}\n",
      "{\"timestamp\": \"2025-10-24T12:33:35.115429Z\", \"level\": \"warning\", \"event\": \"ASTRA_DB_API_ENDPOINT is missing from environment\"}\n",
      "{\"timestamp\": \"2025-10-24T12:33:35.115824Z\", \"level\": \"warning\", \"event\": \"ASTRA_DB_APPLICATION_TOKEN is missing from environment\"}\n",
      "{\"timestamp\": \"2025-10-24T12:33:35.116187Z\", \"level\": \"warning\", \"event\": \"ASTRA_DB_KEYSPACE is missing from environment\"}\n",
      "{\"config_keys\": [\"astra_db\", \"embedding_model\", \"retriever\", \"llm\"], \"timestamp\": \"2025-10-24T12:33:35.118235Z\", \"level\": \"info\", \"event\": \"YAML config loaded\"}\n"
     ]
    }
   ],
   "source": [
    "model = ModelLoader()"
   ]
  },
  {
   "cell_type": "code",
   "execution_count": 180,
   "id": "eabab20d",
   "metadata": {},
   "outputs": [
    {
     "name": "stderr",
     "output_type": "stream",
     "text": [
      "{\"provider\": \"groq\", \"model\": \"openai/gpt-oss-120b\", \"timestamp\": \"2025-10-24T12:33:35.312609Z\", \"level\": \"info\", \"event\": \"Loading LLM\"}\n"
     ]
    }
   ],
   "source": [
    "llm = model.load_llm()"
   ]
  },
  {
   "cell_type": "code",
   "execution_count": 181,
   "id": "6ce3647f",
   "metadata": {},
   "outputs": [
    {
     "name": "stderr",
     "output_type": "stream",
     "text": [
      "HTTP Request: POST https://api.groq.com/openai/v1/chat/completions \"HTTP/1.1 200 OK\"\n"
     ]
    },
    {
     "data": {
      "text/plain": [
       "'Hello! How can I help you today?'"
      ]
     },
     "execution_count": 181,
     "metadata": {},
     "output_type": "execute_result"
    }
   ],
   "source": [
    "llm.invoke(\"Hi\").content"
   ]
  },
  {
   "cell_type": "code",
   "execution_count": 182,
   "id": "80ddc550",
   "metadata": {},
   "outputs": [],
   "source": [
    "from typing import List\n",
    "from typing_extensions import TypedDict\n",
    "from pydantic import BaseModel, Field"
   ]
  },
  {
   "cell_type": "code",
   "execution_count": 183,
   "id": "f74e80df",
   "metadata": {},
   "outputs": [],
   "source": [
    "from langgraph.graph import StateGraph, START, END\n",
    "from langchain_core.messages import AIMessage, HumanMessage, SystemMessage\n",
    "from langgraph.checkpoint.memory import MemorySaver\n",
    "from IPython.display import Image, display"
   ]
  },
  {
   "cell_type": "code",
   "execution_count": 184,
   "id": "3f38afc9",
   "metadata": {},
   "outputs": [],
   "source": [
    "class Analyst(BaseModel):\n",
    "    name: str = Field(description=\"Name of the analyst.\")\n",
    "    role: str = Field(description=\"role of the analyst.\")\n",
    "    affiliation: str = Field(description=\"Primary Affiliation of the analyst\")\n",
    "    description: str = Field(description=\"Description of the analyst focus, concerns and motives.\")\n",
    "\n",
    "    @property\n",
    "    def persona(self) -> str:\n",
    "        return f\"Name: {self.name}\\nRole: {self.role}\\nAffiliation: {self.affiliation}\\nDescription: {self.description}\""
   ]
  },
  {
   "cell_type": "code",
   "execution_count": 185,
   "id": "dbccd6d9",
   "metadata": {},
   "outputs": [
    {
     "data": {
      "text/plain": [
       "Analyst(name='Ms. Priya Sharma', role='Policy Analyst', affiliation='Ministry of Health', description='Investigates AI policy and compliance frameworks.')"
      ]
     },
     "execution_count": 185,
     "metadata": {},
     "output_type": "execute_result"
    }
   ],
   "source": [
    "Analyst( name=\"Dr. Neha Patel\", role=\"Medical Data Scientist\", affiliation=\"Stanford Medicine\", description=\"Focuses on predictive models for patient outcomes.\" )\n",
    "Analyst( name=\"Dr. Arun Verma\", role=\"Ethics Researcher\", affiliation=\"WHO\", description=\"Explores ethical implications of AI in diagnostics.\" )\n",
    "Analyst( name=\"Ms. Priya Sharma\", role=\"Policy Analyst\", affiliation=\"Ministry of Health\", description=\"Investigates AI policy and compliance frameworks.\" )"
   ]
  },
  {
   "cell_type": "code",
   "execution_count": 186,
   "id": "a2ae03e8",
   "metadata": {},
   "outputs": [],
   "source": [
    "class Perspective(BaseModel):\n",
    "    analysts: List[Analyst] = Field(description=\"Comprehensive list of analysts with their roles and affiliations\")"
   ]
  },
  {
   "cell_type": "code",
   "execution_count": null,
   "id": "9d63650e",
   "metadata": {},
   "outputs": [],
   "source": [
    "class GenerateAnalystsState(TypedDict):\n",
    "    topic: str # Research Topics\n",
    "    max_analyst: int # number of analyst\n",
    "    human_analyst_feedback: str # Human Feedback\n",
    "    analysts: List[Analyst] # Analyst asking questions\n"
   ]
  },
  {
   "cell_type": "code",
   "execution_count": null,
   "id": "d9aaf22f",
   "metadata": {},
   "outputs": [
    {
     "data": {
      "text/plain": [
       "{'topic': 'Finance',\n",
       " 'max_analysts': 5,\n",
       " 'human_analyst_feedback': 'Give me real info'}"
      ]
     },
     "execution_count": 188,
     "metadata": {},
     "output_type": "execute_result"
    }
   ],
   "source": [
    "GenerateAnalystsState(\n",
    "    topic=\"Finance\",\n",
    "    max_analyst=5,\n",
    "    human_analyst_feedback=\"Give me real info\"\n",
    ")"
   ]
  },
  {
   "cell_type": "code",
   "execution_count": 189,
   "id": "95a46389",
   "metadata": {},
   "outputs": [],
   "source": [
    "analyst_instructions=\"\"\"You are tasked with creating a set of AI analyst personas. Follow these instructions carefully:\n",
    "\n",
    "1. First, review the research topic:\n",
    "{topic}\n",
    "        \n",
    "2. Examine any editorial feedback that has been optionally provided to guide creation of the analysts: \n",
    "        \n",
    "{human_analyst_feedback}\n",
    "    \n",
    "3. Determine the most interesting themes based upon documents and / or feedback above.\n",
    "                    \n",
    "4. Pick the top {max_analysts} themes.\n",
    "\n",
    "5. Assign one analyst to each theme.\"\"\""
   ]
  },
  {
   "cell_type": "code",
   "execution_count": null,
   "id": "1751fa6b",
   "metadata": {},
   "outputs": [
    {
     "name": "stdout",
     "output_type": "stream",
     "text": [
      "['You are tasked with creating a set of AI analyst personas. Follow these instructions carefully:\\n\\n1. First, review the research topic:\\neducation\\n\\n2. Examine any editorial feedback that has been optionally provided to guide creation of the analysts: \\n\\nplease exaplain only on AI\\n\\n3. Determine the most interesting themes based upon documents and / or feedback above.\\n\\n4. Pick the top 4 themes.\\n\\n5. Assign one analyst to each theme.', 'Generate the set of analysts.']\n"
     ]
    }
   ],
   "source": [
    "print([analyst_instructions.format(\n",
    "        topic=\"education\",\n",
    "        max_analyst=4,\n",
    "        human_analyst_feedback=\"please exaplain only on AI\"\n",
    "    )]+[\"Generate the set of analysts.\"])"
   ]
  },
  {
   "cell_type": "code",
   "execution_count": 191,
   "id": "4280bdce",
   "metadata": {},
   "outputs": [],
   "source": [
    "def create_analyst(state: GenerateAnalystsState):\n",
    "    \"\"\"\n",
    "        It is creating my analyst\n",
    "    \"\"\"\n",
    "\n",
    "    topic = state['topic']\n",
    "    max_analyst = state['max_analyst']\n",
    "    human_analyst_feedback = state.get('human_analyst_feedback', \"\")\n",
    "\n",
    "    structured_llm = llm.with_structured_output(Perspective)\n",
    "    system_message = analyst_instructions.format(\n",
    "        topic=topic,\n",
    "        max_analysts=max_analyst,\n",
    "        human_analyst_feedback= human_analyst_feedback\n",
    "    )\n",
    "\n",
    "    analysts = structured_llm.invoke([SystemMessage(content=system_message)] + [HumanMessage(content=\"Generate the set of analysts.\")])\n",
    "    return {\"analysts\": analysts}"
   ]
  },
  {
   "cell_type": "code",
   "execution_count": 194,
   "id": "33540b5f",
   "metadata": {},
   "outputs": [
    {
     "name": "stderr",
     "output_type": "stream",
     "text": [
      "HTTP Request: POST https://api.groq.com/openai/v1/chat/completions \"HTTP/1.1 200 OK\"\n"
     ]
    },
    {
     "name": "stdout",
     "output_type": "stream",
     "text": [
      "{'analysts': Perspective(analysts=[Analyst(name='Dr. Maya Patel', role='Epidemiology Analyst', affiliation='World Health Organization (WHO)', description='Focuses on global disease surveillance, outbreak response, and population health trends. Prioritizes evidence-based policy recommendations and real-time data accuracy.'), Analyst(name='Dr. Luis Ramirez', role='Mental Health Researcher', affiliation='National Institute of Mental Health (NIMH)', description='Specializes in community mental health, stigma reduction, and the impact of socioeconomic factors on psychological well‑being. Emphasizes peer‑reviewed studies and longitudinal data.'), Analyst(name='Prof. Aisha Khan', role='Nutrition & Lifestyle Analyst', affiliation='Harvard T.H. Chan School of Public Health', description='Examines dietary patterns, food security, and the relationship between nutrition and chronic disease. Relies on large cohort studies, meta‑analyses, and real‑world dietary surveys.'), Analyst(name='Dr. Ethan Liu', role='Infectious Disease Specialist', affiliation='Centers for Disease Control and Prevention (CDC)', description='Tracks emerging pathogens, antimicrobial resistance, and vaccine efficacy. Provides up‑to‑date, peer‑reviewed data for clinicians and public‑health officials.'), Analyst(name='Ms. Sofia Andersson', role='Health Technology Analyst', affiliation='MIT Media Lab – Digital Health Group', description='Evaluates digital health tools, telemedicine adoption, AI diagnostics, and data privacy. Focuses on real‑world implementation outcomes and regulatory compliance.')])}\n"
     ]
    }
   ],
   "source": [
    "print(create_analyst({\n",
    "    'topic': \"health\",\n",
    "    'max_analyst': 5,\n",
    "    'human_analyst_feedback': \"Get me real info\"\n",
    "}))"
   ]
  },
  {
   "cell_type": "code",
   "execution_count": 115,
   "id": "532958ab",
   "metadata": {},
   "outputs": [],
   "source": [
    "def human_feedback(state):\n",
    "    \"\"\"\n",
    "        Args: \n",
    "            state (_type_): description\n",
    "    \"\"\"\n",
    "    pass"
   ]
  },
  {
   "cell_type": "code",
   "execution_count": 116,
   "id": "e5d9af73",
   "metadata": {},
   "outputs": [],
   "source": [
    "def should_continue(state):\n",
    "    \"\"\"\n",
    "    Args:\n",
    "        state (_type_): description\n",
    "    \"\"\"\n",
    "    pass "
   ]
  },
  {
   "cell_type": "code",
   "execution_count": null,
   "id": "f81c16de",
   "metadata": {},
   "outputs": [],
   "source": []
  },
  {
   "cell_type": "code",
   "execution_count": 118,
   "id": "c4d0a029",
   "metadata": {},
   "outputs": [
    {
     "ename": "TypeError",
     "evalue": "StateGraph.__init__() missing 1 required positional argument: 'state_schema'",
     "output_type": "error",
     "traceback": [
      "\u001b[31m---------------------------------------------------------------------------\u001b[39m",
      "\u001b[31mTypeError\u001b[39m                                 Traceback (most recent call last)",
      "\u001b[36mCell\u001b[39m\u001b[36m \u001b[39m\u001b[32mIn[118]\u001b[39m\u001b[32m, line 1\u001b[39m\n\u001b[32m----> \u001b[39m\u001b[32m1\u001b[39m builder = \u001b[43mStateGraph\u001b[49m\u001b[43m(\u001b[49m\u001b[43m)\u001b[49m\n",
      "\u001b[31mTypeError\u001b[39m: StateGraph.__init__() missing 1 required positional argument: 'state_schema'"
     ]
    }
   ],
   "source": [
    "builder = StateGraph()"
   ]
  },
  {
   "cell_type": "code",
   "execution_count": 100,
   "id": "44816ffa",
   "metadata": {},
   "outputs": [
    {
     "ename": "NameError",
     "evalue": "name 'builder' is not defined",
     "output_type": "error",
     "traceback": [
      "\u001b[31m---------------------------------------------------------------------------\u001b[39m",
      "\u001b[31mNameError\u001b[39m                                 Traceback (most recent call last)",
      "\u001b[36mCell\u001b[39m\u001b[36m \u001b[39m\u001b[32mIn[100]\u001b[39m\u001b[32m, line 1\u001b[39m\n\u001b[32m----> \u001b[39m\u001b[32m1\u001b[39m \u001b[43mbuilder\u001b[49m.add_node()\n\u001b[32m      2\u001b[39m builder.add_node()\n",
      "\u001b[31mNameError\u001b[39m: name 'builder' is not defined"
     ]
    }
   ],
   "source": [
    "builder.add_node()\n",
    "builder.add_node()"
   ]
  },
  {
   "cell_type": "code",
   "execution_count": 101,
   "id": "41fd8518",
   "metadata": {},
   "outputs": [
    {
     "ename": "NameError",
     "evalue": "name 'builder' is not defined",
     "output_type": "error",
     "traceback": [
      "\u001b[31m---------------------------------------------------------------------------\u001b[39m",
      "\u001b[31mNameError\u001b[39m                                 Traceback (most recent call last)",
      "\u001b[36mCell\u001b[39m\u001b[36m \u001b[39m\u001b[32mIn[101]\u001b[39m\u001b[32m, line 1\u001b[39m\n\u001b[32m----> \u001b[39m\u001b[32m1\u001b[39m \u001b[43mbuilder\u001b[49m.edge(START, create_analyst)\n\u001b[32m      2\u001b[39m builder.add_edge(\u001b[33m\"\u001b[39m\u001b[33mcreate_analyst\u001b[39m\u001b[33m\"\u001b[39m, \u001b[33m\"\u001b[39m\u001b[33mhuman_feedback\u001b[39m\u001b[33m\"\u001b[39m)\n\u001b[32m      3\u001b[39m builder.conditional_edge(\u001b[33m\"\u001b[39m\u001b[33mhuman_feedback\u001b[39m\u001b[33m\"\u001b[39m, should_continue, [\u001b[33m\"\u001b[39m\u001b[33mcreate_analyst\u001b[39m\u001b[33m\"\u001b[39m, END])\n",
      "\u001b[31mNameError\u001b[39m: name 'builder' is not defined"
     ]
    }
   ],
   "source": [
    "builder.edge(START, create_analyst)\n",
    "builder.add_edge(\"create_analyst\", \"human_feedback\")\n",
    "builder.conditional_edge(\"human_feedback\", should_continue, [\"create_analyst\", END])"
   ]
  },
  {
   "cell_type": "code",
   "execution_count": 102,
   "id": "4ad725e7",
   "metadata": {},
   "outputs": [],
   "source": [
    "memory = MemorySaver()"
   ]
  },
  {
   "cell_type": "code",
   "execution_count": 103,
   "id": "e33441b6",
   "metadata": {},
   "outputs": [
    {
     "ename": "NameError",
     "evalue": "name 'builder' is not defined",
     "output_type": "error",
     "traceback": [
      "\u001b[31m---------------------------------------------------------------------------\u001b[39m",
      "\u001b[31mNameError\u001b[39m                                 Traceback (most recent call last)",
      "\u001b[36mCell\u001b[39m\u001b[36m \u001b[39m\u001b[32mIn[103]\u001b[39m\u001b[32m, line 1\u001b[39m\n\u001b[32m----> \u001b[39m\u001b[32m1\u001b[39m graph = \u001b[43mbuilder\u001b[49m.compile(interrupt_before=[\u001b[33m\"\u001b[39m\u001b[33mhuman_feedback\u001b[39m\u001b[33m\"\u001b[39m], checkpointer=memory)\n",
      "\u001b[31mNameError\u001b[39m: name 'builder' is not defined"
     ]
    }
   ],
   "source": [
    "graph = builder.compile(interrupt_before=[\"human_feedback\"], checkpointer=memory)"
   ]
  },
  {
   "cell_type": "code",
   "execution_count": 104,
   "id": "e38ee5d6",
   "metadata": {},
   "outputs": [
    {
     "ename": "NameError",
     "evalue": "name 'graph' is not defined",
     "output_type": "error",
     "traceback": [
      "\u001b[31m---------------------------------------------------------------------------\u001b[39m",
      "\u001b[31mNameError\u001b[39m                                 Traceback (most recent call last)",
      "\u001b[36mCell\u001b[39m\u001b[36m \u001b[39m\u001b[32mIn[104]\u001b[39m\u001b[32m, line 1\u001b[39m\n\u001b[32m----> \u001b[39m\u001b[32m1\u001b[39m display(Image(\u001b[43mgraph\u001b[49m.get_graph(xray=\u001b[32m1\u001b[39m).draw_mermaid_png()))\n",
      "\u001b[31mNameError\u001b[39m: name 'graph' is not defined"
     ]
    }
   ],
   "source": [
    "display(Image(graph.get_graph(xray=1).draw_mermaid_png()))"
   ]
  },
  {
   "cell_type": "code",
   "execution_count": null,
   "id": "31cf49ea",
   "metadata": {},
   "outputs": [],
   "source": []
  },
  {
   "cell_type": "code",
   "execution_count": null,
   "id": "0f8f0007",
   "metadata": {},
   "outputs": [],
   "source": []
  },
  {
   "cell_type": "code",
   "execution_count": null,
   "id": "6cd97d72",
   "metadata": {},
   "outputs": [],
   "source": []
  }
 ],
 "metadata": {
  "kernelspec": {
   "display_name": "automated-research-analyst",
   "language": "python",
   "name": "python3"
  },
  "language_info": {
   "codemirror_mode": {
    "name": "ipython",
    "version": 3
   },
   "file_extension": ".py",
   "mimetype": "text/x-python",
   "name": "python",
   "nbconvert_exporter": "python",
   "pygments_lexer": "ipython3",
   "version": "3.11.13"
  }
 },
 "nbformat": 4,
 "nbformat_minor": 5
}
